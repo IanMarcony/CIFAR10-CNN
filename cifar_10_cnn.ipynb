{
  "cells": [
    {
      "cell_type": "markdown",
      "metadata": {
        "id": "A3TXybttWn-W"
      },
      "source": [
        "# Rede Neural Convolucional com Dataset CIFAR-10"
      ]
    },
    {
      "cell_type": "markdown",
      "metadata": {
        "id": "E6h8o5TDWuLF"
      },
      "source": [
        "## Importação de bibliotecas necessárias"
      ]
    },
    {
      "cell_type": "code",
      "execution_count": null,
      "metadata": {
        "colab": {
          "base_uri": "https://localhost:8080/"
        },
        "id": "tSruv1-oxfzx",
        "outputId": "79c83ea3-2531-41a4-c1fb-4da2c815a7ee"
      },
      "outputs": [
        {
          "name": "stdout",
          "output_type": "stream",
          "text": [
            "Collecting keras_cv\n",
            "  Downloading keras_cv-0.9.0-py3-none-any.whl (650 kB)\n",
            "\u001b[2K     \u001b[90m━━━━━━━━━━━━━━━━━━━━━━━━━━━━━━━━━━━━━━━━\u001b[0m \u001b[32m650.7/650.7 kB\u001b[0m \u001b[31m7.0 MB/s\u001b[0m eta \u001b[36m0:00:00\u001b[0m\n",
            "\u001b[?25hRequirement already satisfied: packaging in /usr/local/lib/python3.10/dist-packages (from keras_cv) (24.1)\n",
            "Requirement already satisfied: absl-py in /usr/local/lib/python3.10/dist-packages (from keras_cv) (1.4.0)\n",
            "Requirement already satisfied: regex in /usr/local/lib/python3.10/dist-packages (from keras_cv) (2024.5.15)\n",
            "Requirement already satisfied: tensorflow-datasets in /usr/local/lib/python3.10/dist-packages (from keras_cv) (4.9.6)\n",
            "Collecting keras-core (from keras_cv)\n",
            "  Downloading keras_core-0.1.7-py3-none-any.whl (950 kB)\n",
            "\u001b[2K     \u001b[90m━━━━━━━━━━━━━━━━━━━━━━━━━━━━━━━━━━━━━━━━\u001b[0m \u001b[32m950.8/950.8 kB\u001b[0m \u001b[31m12.2 MB/s\u001b[0m eta \u001b[36m0:00:00\u001b[0m\n",
            "\u001b[?25hRequirement already satisfied: kagglehub in /usr/local/lib/python3.10/dist-packages (from keras_cv) (0.2.5)\n",
            "Requirement already satisfied: requests in /usr/local/lib/python3.10/dist-packages (from kagglehub->keras_cv) (2.31.0)\n",
            "Requirement already satisfied: tqdm in /usr/local/lib/python3.10/dist-packages (from kagglehub->keras_cv) (4.66.4)\n",
            "Requirement already satisfied: numpy in /usr/local/lib/python3.10/dist-packages (from keras-core->keras_cv) (1.25.2)\n",
            "Requirement already satisfied: rich in /usr/local/lib/python3.10/dist-packages (from keras-core->keras_cv) (13.7.1)\n",
            "Collecting namex (from keras-core->keras_cv)\n",
            "  Downloading namex-0.0.8-py3-none-any.whl (5.8 kB)\n",
            "Requirement already satisfied: h5py in /usr/local/lib/python3.10/dist-packages (from keras-core->keras_cv) (3.9.0)\n",
            "Requirement already satisfied: dm-tree in /usr/local/lib/python3.10/dist-packages (from keras-core->keras_cv) (0.1.8)\n",
            "Requirement already satisfied: click in /usr/local/lib/python3.10/dist-packages (from tensorflow-datasets->keras_cv) (8.1.7)\n",
            "Requirement already satisfied: immutabledict in /usr/local/lib/python3.10/dist-packages (from tensorflow-datasets->keras_cv) (4.2.0)\n",
            "Requirement already satisfied: promise in /usr/local/lib/python3.10/dist-packages (from tensorflow-datasets->keras_cv) (2.3)\n",
            "Requirement already satisfied: protobuf>=3.20 in /usr/local/lib/python3.10/dist-packages (from tensorflow-datasets->keras_cv) (3.20.3)\n",
            "Requirement already satisfied: psutil in /usr/local/lib/python3.10/dist-packages (from tensorflow-datasets->keras_cv) (5.9.5)\n",
            "Requirement already satisfied: pyarrow in /usr/local/lib/python3.10/dist-packages (from tensorflow-datasets->keras_cv) (14.0.2)\n",
            "Requirement already satisfied: simple-parsing in /usr/local/lib/python3.10/dist-packages (from tensorflow-datasets->keras_cv) (0.1.5)\n",
            "Requirement already satisfied: tensorflow-metadata in /usr/local/lib/python3.10/dist-packages (from tensorflow-datasets->keras_cv) (1.15.0)\n",
            "Requirement already satisfied: termcolor in /usr/local/lib/python3.10/dist-packages (from tensorflow-datasets->keras_cv) (2.4.0)\n",
            "Requirement already satisfied: toml in /usr/local/lib/python3.10/dist-packages (from tensorflow-datasets->keras_cv) (0.10.2)\n",
            "Requirement already satisfied: wrapt in /usr/local/lib/python3.10/dist-packages (from tensorflow-datasets->keras_cv) (1.14.1)\n",
            "Requirement already satisfied: array-record>=0.5.0 in /usr/local/lib/python3.10/dist-packages (from tensorflow-datasets->keras_cv) (0.5.1)\n",
            "Requirement already satisfied: etils[enp,epath,epy,etree]>=1.6.0 in /usr/local/lib/python3.10/dist-packages (from tensorflow-datasets->keras_cv) (1.7.0)\n",
            "Requirement already satisfied: typing_extensions in /usr/local/lib/python3.10/dist-packages (from etils[enp,epath,epy,etree]>=1.6.0->tensorflow-datasets->keras_cv) (4.12.2)\n",
            "Requirement already satisfied: fsspec in /usr/local/lib/python3.10/dist-packages (from etils[enp,epath,epy,etree]>=1.6.0->tensorflow-datasets->keras_cv) (2023.6.0)\n",
            "Requirement already satisfied: importlib_resources in /usr/local/lib/python3.10/dist-packages (from etils[enp,epath,epy,etree]>=1.6.0->tensorflow-datasets->keras_cv) (6.4.0)\n",
            "Requirement already satisfied: zipp in /usr/local/lib/python3.10/dist-packages (from etils[enp,epath,epy,etree]>=1.6.0->tensorflow-datasets->keras_cv) (3.19.2)\n",
            "Requirement already satisfied: charset-normalizer<4,>=2 in /usr/local/lib/python3.10/dist-packages (from requests->kagglehub->keras_cv) (3.3.2)\n",
            "Requirement already satisfied: idna<4,>=2.5 in /usr/local/lib/python3.10/dist-packages (from requests->kagglehub->keras_cv) (3.7)\n",
            "Requirement already satisfied: urllib3<3,>=1.21.1 in /usr/local/lib/python3.10/dist-packages (from requests->kagglehub->keras_cv) (2.0.7)\n",
            "Requirement already satisfied: certifi>=2017.4.17 in /usr/local/lib/python3.10/dist-packages (from requests->kagglehub->keras_cv) (2024.6.2)\n",
            "Requirement already satisfied: six in /usr/local/lib/python3.10/dist-packages (from promise->tensorflow-datasets->keras_cv) (1.16.0)\n",
            "Requirement already satisfied: markdown-it-py>=2.2.0 in /usr/local/lib/python3.10/dist-packages (from rich->keras-core->keras_cv) (3.0.0)\n",
            "Requirement already satisfied: pygments<3.0.0,>=2.13.0 in /usr/local/lib/python3.10/dist-packages (from rich->keras-core->keras_cv) (2.16.1)\n",
            "Requirement already satisfied: docstring-parser~=0.15 in /usr/local/lib/python3.10/dist-packages (from simple-parsing->tensorflow-datasets->keras_cv) (0.16)\n",
            "Requirement already satisfied: mdurl~=0.1 in /usr/local/lib/python3.10/dist-packages (from markdown-it-py>=2.2.0->rich->keras-core->keras_cv) (0.1.2)\n",
            "Installing collected packages: namex, keras-core, keras_cv\n",
            "Successfully installed keras-core-0.1.7 keras_cv-0.9.0 namex-0.0.8\n",
            "Using TensorFlow backend\n"
          ]
        }
      ],
      "source": [
        "#Importando libs essenciais\n",
        "import matplotlib.pyplot as plt\n",
        "from keras.datasets import cifar10\n",
        "from keras.models import Sequential\n",
        "from keras_cv.layers import Grayscale\n",
        "from keras.layers import Dense, Flatten, Conv2D, MaxPooling2D\n",
        "from tensorflow.keras.utils import to_categorical\n",
        "import numpy as np\n",
        "from sklearn.model_selection import StratifiedKFold\n",
        "from tensorflow.keras.layers import BatchNormalization\n",
        "from keras.layers  import Dropout\n",
        "from keras.preprocessing.image import ImageDataGenerator"
      ]
    },
    {
      "cell_type": "markdown",
      "metadata": {
        "id": "fOHf9DrSWzm3"
      },
      "source": [
        "## Separando dados para treinamentos"
      ]
    },
    {
      "cell_type": "markdown",
      "metadata": {
        "id": "426agQ_IW5qG"
      },
      "source": [
        "### Leitura de dataset"
      ]
    },
    {
      "cell_type": "code",
      "execution_count": null,
      "metadata": {
        "colab": {
          "base_uri": "https://localhost:8080/"
        },
        "id": "0E7QkqDI3jbF",
        "outputId": "e1dc58af-5019-438b-8b59-9252e95832fd"
      },
      "outputs": [
        {
          "name": "stdout",
          "output_type": "stream",
          "text": [
            "Downloading data from https://www.cs.toronto.edu/~kriz/cifar-10-python.tar.gz\n",
            "170498071/170498071 [==============================] - 6s 0us/step\n"
          ]
        }
      ],
      "source": [
        "#Separando dados para treinamentos\n",
        "seed = 10\n",
        "np.random.seed(seed)\n",
        "(X_treinamento, y_treinamento),(X_teste, y_teste) =  cifar10.load_data()"
      ]
    },
    {
      "cell_type": "code",
      "execution_count": null,
      "metadata": {
        "colab": {
          "base_uri": "https://localhost:8080/",
          "height": 447
        },
        "id": "PHFwKWPb36ha",
        "outputId": "a9f0c235-eadf-4bd5-ab4e-0ac1853db63f"
      },
      "outputs": [
        {
          "data": {
            "text/plain": [
              "<matplotlib.image.AxesImage at 0x7f4d279b3d90>"
            ]
          },
          "execution_count": 3,
          "metadata": {},
          "output_type": "execute_result"
        },
        {
          "data": {
            "image/png": "[encoded data removed]",
            "text/plain": [
              "<Figure size 640x480 with 1 Axes>"
            ]
          },
          "metadata": {},
          "output_type": "display_data"
        }
      ],
      "source": [
        "#Mostrando imagem\n",
        "plt.imshow(X_treinamento[46])"
      ]
    },
    {
      "cell_type": "markdown",
      "metadata": {
        "id": "vC1DXbzuW-wV"
      },
      "source": [
        "### Conversão das imagens em escala de cinza"
      ]
    },
    {
      "cell_type": "code",
      "execution_count": null,
      "metadata": {
        "colab": {
          "base_uri": "https://localhost:8080/",
          "height": 447
        },
        "id": "amZ9pbDXAzVO",
        "outputId": "0f09a009-9ffb-48cc-c6ca-ee2a7d103d5b"
      },
      "outputs": [
        {
          "data": {
            "text/plain": [
              "<matplotlib.image.AxesImage at 0x7f4d1e465ba0>"
            ]
          },
          "execution_count": 4,
          "metadata": {},
          "output_type": "execute_result"
        },
        {
          "data": {
            "image/png": "[encoded data removed]",
            "text/plain": [
              "<Figure size 640x480 with 1 Axes>"
            ]
          },
          "metadata": {},
          "output_type": "display_data"
        }
      ],
      "source": [
        "# Convertendo imagens\n",
        "to_grayscale = Grayscale()\n",
        "previsores_treinamento = to_grayscale(X_treinamento)\n",
        "previsores_teste = to_grayscale(X_teste)\n",
        "previsores_treinamento = np.array(previsores_treinamento)\n",
        "previsores_teste = np.array(previsores_teste)\n",
        "plt.imshow(previsores_treinamento[46])"
      ]
    },
    {
      "cell_type": "code",
      "execution_count": null,
      "metadata": {
        "colab": {
          "base_uri": "https://localhost:8080/"
        },
        "id": "LltLENgpF51v",
        "outputId": "f899b76d-f295-4375-f783-f8e84c73f000"
      },
      "outputs": [
        {
          "name": "stdout",
          "output_type": "stream",
          "text": [
            "(50000, 32, 32, 1)\n",
            "(10000, 32, 32, 1)\n"
          ]
        }
      ],
      "source": [
        "print(previsores_treinamento.shape)\n",
        "print(previsores_teste.shape)"
      ]
    },
    {
      "cell_type": "markdown",
      "metadata": {
        "id": "SYwfKslsXDHe"
      },
      "source": [
        "### Tratando dados de pixels para uma escala de 0-1"
      ]
    },
    {
      "cell_type": "code",
      "execution_count": null,
      "metadata": {
        "id": "wzZOnLzW3T6u"
      },
      "outputs": [],
      "source": [
        "#Tratando dados de pixels para uma escala de 0-1\n",
        "previsores_treinamento /= 255\n",
        "previsores_teste /= 255"
      ]
    },
    {
      "cell_type": "markdown",
      "metadata": {
        "id": "6oIJWH8HXFum"
      },
      "source": [
        "### Convertendo classes"
      ]
    },
    {
      "cell_type": "code",
      "execution_count": null,
      "metadata": {
        "id": "Sm6v7V23IHqR"
      },
      "outputs": [],
      "source": [
        "#Convertendo classes\n",
        "classe_treinamento = to_categorical(y_treinamento, 10)\n",
        "classe_teste = to_categorical(y_teste, 10)"
      ]
    },
    {
      "cell_type": "markdown",
      "metadata": {
        "id": "_L0AnVH5XHqO"
      },
      "source": [
        "## Criação de Augumentation"
      ]
    },
    {
      "cell_type": "code",
      "execution_count": null,
      "metadata": {
        "id": "-h8vuRBSOW4p"
      },
      "outputs": [],
      "source": [
        "# Augumentation\n",
        "gerador_treinamento = ImageDataGenerator(rotation_range=7,\n",
        "                                         horizontal_flip= True,\n",
        "                                         shear_range = 0.2,\n",
        "                                         height_shift_range = 0.07,\n",
        "                                         zoom_range=0.2)\n",
        "\n",
        "gerador_teste = ImageDataGenerator()\n",
        "\n",
        "base_treinamento = gerador_treinamento.flow(previsores_treinamento, classe_treinamento, batch_size= 128)\n",
        "base_teste = gerador_teste.flow(previsores_teste, classe_teste, batch_size= 128)"
      ]
    },
    {
      "cell_type": "code",
      "execution_count": null,
      "metadata": {
        "colab": {
          "base_uri": "https://localhost:8080/"
        },
        "id": "QbQ_RxvWJjmJ",
        "outputId": "4b0eb358-d27f-494e-ccb8-840a49155c93"
      },
      "outputs": [
        {
          "name": "stdout",
          "output_type": "stream",
          "text": [
            "(50000, 32, 32, 1)\n",
            "(10000, 32, 32, 1)\n",
            "(50000, 10)\n",
            "(10000, 10)\n",
            "(50000, 32, 32, 1)\n",
            "(10000, 32, 32, 1)\n",
            "78.125\n"
          ]
        }
      ],
      "source": [
        "print(base_treinamento.x.shape)\n",
        "print(base_teste.x.shape)\n",
        "print(classe_treinamento.shape)\n",
        "print(classe_teste.shape)\n",
        "print(previsores_treinamento.shape)\n",
        "print(previsores_teste.shape)"
      ]
    },
    {
      "cell_type": "markdown",
      "metadata": {
        "id": "4AmHllMSXOae"
      },
      "source": [
        "## Criação da Rede Neural Convolucional"
      ]
    },
    {
      "cell_type": "code",
      "execution_count": null,
      "metadata": {
        "id": "WVqqQxlyLVeY"
      },
      "outputs": [],
      "source": [
        "#Iniciar rede convulacional\n",
        "def criarRede():\n",
        "  classificador = Sequential()\n",
        "  classificador.add(Conv2D(32, (4,4), input_shape=(32,32,1),\n",
        "                          activation = \"relu\")) #Criação do mapa de características\n",
        "  classificador.add(BatchNormalization()) #Normalização dos dados\n",
        "  classificador.add(MaxPooling2D(pool_size=(2,2))) #Realização do MaxPooling para pegar as principais características\n",
        "\n",
        "\n",
        "  classificador.add(Conv2D(32, (3,3),strides=2, activation = \"relu\")) #Criação do mapa de características\n",
        "  classificador.add(BatchNormalization()) #Normalização dos dados\n",
        "  classificador.add(MaxPooling2D(pool_size=(2,2))) #Realização do MaxPooling para pegar as principais características\n",
        "\n",
        "\n",
        "  classificador.add(Flatten()) #Normalizar para uma entrada comum na rede neural densa\n",
        "  classificador.add(Dense(units=128, activation = \"relu\" ))\n",
        "  classificador.add(Dropout(0.2))\n",
        "  classificador.add(Dense(units=256, activation = \"relu\" ))\n",
        "  classificador.add(Dropout(0.2))\n",
        "  classificador.add(Dense(units=10, activation = \"softmax\" ))\n",
        "  classificador.compile(loss = 'categorical_crossentropy',\n",
        "                        optimizer = 'adam', metrics = ['accuracy'])\n",
        "  return classificador"
      ]
    },
    {
      "cell_type": "code",
      "execution_count": null,
      "metadata": {
        "colab": {
          "base_uri": "https://localhost:8080/"
        },
        "id": "OMvJKn6MPxKe",
        "outputId": "e0b23602-c46a-4978-fc62-54b7b0721a0e"
      },
      "outputs": [
        {
          "data": {
            "text/plain": [
              "['AIRPLANE',\n",
              " 'AUTOMOBILE',\n",
              " 'BIRD',\n",
              " 'CAT',\n",
              " 'DEER',\n",
              " 'DOG',\n",
              " 'FROG',\n",
              " 'HORSE',\n",
              " 'SHIP',\n",
              " 'TRUCK']"
            ]
          },
          "execution_count": 32,
          "metadata": {},
          "output_type": "execute_result"
        }
      ],
      "source": [
        "# Labels do CIFAR 10\n",
        "labels = 'airplane automobile bird cat deer dog frog horse ship truck'.upper().split(' ')\n",
        "labels"
      ]
    },
    {
      "cell_type": "markdown",
      "metadata": {
        "id": "V8hTAB2dXVO_"
      },
      "source": [
        "## Inicialização de treinamentos e testes"
      ]
    },
    {
      "cell_type": "markdown",
      "metadata": {
        "id": "cW1rTdbIdTB9"
      },
      "source": [
        "### Instanciando rede neural"
      ]
    },
    {
      "cell_type": "code",
      "execution_count": null,
      "metadata": {
        "id": "V2-OxcE9qYKu"
      },
      "outputs": [],
      "source": [
        "classificador = criarRede()"
      ]
    },
    {
      "cell_type": "markdown",
      "metadata": {
        "id": "z-xUSkhpXcKX"
      },
      "source": [
        "### Usando dados originais em escala de cinza"
      ]
    },
    {
      "cell_type": "code",
      "execution_count": null,
      "metadata": {
        "colab": {
          "base_uri": "https://localhost:8080/"
        },
        "id": "rOvp654xcduF",
        "outputId": "e6d7c74c-21b5-4aad-d16c-0da3e7134806"
      },
      "outputs": [
        {
          "name": "stdout",
          "output_type": "stream",
          "text": [
            "Epoch 1/20\n",
            "391/391 [==============================] - 3s 7ms/step - loss: 0.6579 - accuracy: 0.7658\n",
            "Epoch 2/20\n",
            "391/391 [==============================] - 2s 5ms/step - loss: 0.6465 - accuracy: 0.7699\n",
            "Epoch 3/20\n",
            "391/391 [==============================] - 2s 5ms/step - loss: 0.6373 - accuracy: 0.7726\n",
            "Epoch 4/20\n",
            "391/391 [==============================] - 2s 5ms/step - loss: 0.6280 - accuracy: 0.7759\n",
            "Epoch 5/20\n",
            "391/391 [==============================] - 2s 5ms/step - loss: 0.6195 - accuracy: 0.7787\n",
            "Epoch 6/20\n",
            "391/391 [==============================] - 2s 6ms/step - loss: 0.6138 - accuracy: 0.7802\n",
            "Epoch 7/20\n",
            "391/391 [==============================] - 4s 9ms/step - loss: 0.5995 - accuracy: 0.7858\n",
            "Epoch 8/20\n",
            "391/391 [==============================] - 2s 5ms/step - loss: 0.5961 - accuracy: 0.7858\n",
            "Epoch 9/20\n",
            "391/391 [==============================] - 2s 5ms/step - loss: 0.5952 - accuracy: 0.7857\n",
            "Epoch 10/20\n",
            "391/391 [==============================] - 2s 5ms/step - loss: 0.5813 - accuracy: 0.7928\n",
            "Epoch 11/20\n",
            "391/391 [==============================] - 2s 5ms/step - loss: 0.5750 - accuracy: 0.7938\n",
            "Epoch 12/20\n",
            "391/391 [==============================] - 2s 6ms/step - loss: 0.5704 - accuracy: 0.7960\n",
            "Epoch 13/20\n",
            "391/391 [==============================] - 3s 7ms/step - loss: 0.5677 - accuracy: 0.7980\n",
            "Epoch 14/20\n",
            "391/391 [==============================] - 2s 5ms/step - loss: 0.5624 - accuracy: 0.7971\n",
            "Epoch 15/20\n",
            "391/391 [==============================] - 2s 5ms/step - loss: 0.5562 - accuracy: 0.7995\n",
            "Epoch 16/20\n",
            "391/391 [==============================] - 2s 5ms/step - loss: 0.5523 - accuracy: 0.8012\n",
            "Epoch 17/20\n",
            "391/391 [==============================] - 2s 5ms/step - loss: 0.5461 - accuracy: 0.8047\n",
            "Epoch 18/20\n",
            "391/391 [==============================] - 2s 6ms/step - loss: 0.5317 - accuracy: 0.8088\n",
            "Epoch 19/20\n",
            "391/391 [==============================] - 2s 6ms/step - loss: 0.5327 - accuracy: 0.8092\n",
            "Epoch 20/20\n",
            "391/391 [==============================] - 2s 5ms/step - loss: 0.5307 - accuracy: 0.8077\n",
            "313/313 [==============================] - 1s 3ms/step - loss: 1.2709 - accuracy: 0.6215\n",
            "Precisão usando dados originais em escala de cinza: [1.2709041833877563, 0.6215000152587891]\n"
          ]
        }
      ],
      "source": [
        "# Usando dados originais em escala de cinza\n",
        "classificador.fit(previsores_treinamento, classe_treinamento, batch_size= 128, epochs = 20)\n",
        "precisao = classificador.evaluate(previsores_teste, classe_teste)\n",
        "print(f'Precisão usando dados originais em escala de cinza: {precisao}')"
      ]
    },
    {
      "cell_type": "code",
      "execution_count": null,
      "metadata": {
        "colab": {
          "base_uri": "https://localhost:8080/",
          "height": 475
        },
        "id": "Q3_GjxKyPWg0",
        "outputId": "04cebc17-53eb-4cb8-cd61-1a1301f2dd1c"
      },
      "outputs": [
        {
          "name": "stdout",
          "output_type": "stream",
          "text": [
            "1/1 [==============================] - 0s 142ms/step\n",
            "Previsão: 0 Label Prevista: AIRPLANE\n",
            "Classe real: 0 Label Real: AIRPLANE\n",
            "Resultado: ACERTOU\n"
          ]
        },
        {
          "data": {
            "image/png": "[encoded data removed]",
            "text/plain": [
              "<Figure size 640x480 with 2 Axes>"
            ]
          },
          "metadata": {},
          "output_type": "display_data"
        }
      ],
      "source": [
        "index =  90\n",
        "imagem_teste = np.expand_dims(previsores_teste[index], axis =0)\n",
        "previsao = classificador.predict(imagem_teste)\n",
        "previsao = np.argmax(previsao, axis=-1)[0]\n",
        "classe_real = preds_classes = np.argmax(classe_teste[index], axis=-1)\n",
        "fig, axs = plt.subplots(1,2)\n",
        "fig.suptitle('Imagem colorida e imagem em escala de cinza')\n",
        "axs[0].imshow(X_teste[index])\n",
        "axs[1].imshow(previsores_teste[index])\n",
        "resultado = 'ACERTOU' if previsao==classe_real else 'ERROU'\n",
        "print(f'Previsão: {previsao} Label Prevista: {labels[previsao]}\\nClasse real: {classe_real} Label Real: {labels[classe_real]}\\nResultado: {resultado}')"
      ]
    },
    {
      "cell_type": "markdown",
      "metadata": {
        "id": "3Qjr7sQ4XfQe"
      },
      "source": [
        "### Validação Cruzada"
      ]
    },
    {
      "cell_type": "code",
      "execution_count": null,
      "metadata": {
        "colab": {
          "base_uri": "https://localhost:8080/"
        },
        "id": "BnMPy5Stqq2D",
        "outputId": "6b15ffdd-40e0-40ca-80d9-e424e1ba84ac"
      },
      "outputs": [
        {
          "name": "stdout",
          "output_type": "stream",
          "text": [
            "Epoch 1/15\n",
            "352/352 [==============================] - 4s 6ms/step - loss: 1.7260 - accuracy: 0.3792\n",
            "Epoch 2/15\n",
            "352/352 [==============================] - 2s 7ms/step - loss: 1.3860 - accuracy: 0.5095\n",
            "Epoch 3/15\n",
            "352/352 [==============================] - 2s 5ms/step - loss: 1.2246 - accuracy: 0.5713\n",
            "Epoch 4/15\n",
            "352/352 [==============================] - 2s 5ms/step - loss: 1.1317 - accuracy: 0.6021\n",
            "Epoch 5/15\n",
            "352/352 [==============================] - 2s 5ms/step - loss: 1.0628 - accuracy: 0.6290\n",
            "Epoch 6/15\n",
            "352/352 [==============================] - 2s 5ms/step - loss: 1.0084 - accuracy: 0.6499\n",
            "Epoch 7/15\n",
            "352/352 [==============================] - 2s 5ms/step - loss: 0.9575 - accuracy: 0.6657\n",
            "Epoch 8/15\n",
            "352/352 [==============================] - 2s 6ms/step - loss: 0.9220 - accuracy: 0.6785\n",
            "Epoch 9/15\n",
            "352/352 [==============================] - 2s 7ms/step - loss: 0.8874 - accuracy: 0.6896\n",
            "Epoch 10/15\n",
            "352/352 [==============================] - 2s 5ms/step - loss: 0.8572 - accuracy: 0.6987\n",
            "Epoch 11/15\n",
            "352/352 [==============================] - 2s 5ms/step - loss: 0.8306 - accuracy: 0.7077\n",
            "Epoch 12/15\n",
            "352/352 [==============================] - 2s 5ms/step - loss: 0.8052 - accuracy: 0.7169\n",
            "Epoch 13/15\n",
            "352/352 [==============================] - 2s 5ms/step - loss: 0.7878 - accuracy: 0.7204\n",
            "Epoch 14/15\n",
            "352/352 [==============================] - 2s 5ms/step - loss: 0.7633 - accuracy: 0.7300\n",
            "Epoch 15/15\n",
            "352/352 [==============================] - 2s 7ms/step - loss: 0.7414 - accuracy: 0.7368\n",
            "157/157 [==============================] - 1s 5ms/step - loss: 1.0717 - accuracy: 0.6422\n",
            "Epoch 1/15\n",
            "352/352 [==============================] - 2s 5ms/step - loss: 0.7695 - accuracy: 0.7290\n",
            "Epoch 2/15\n",
            "352/352 [==============================] - 2s 5ms/step - loss: 0.7403 - accuracy: 0.7383\n",
            "Epoch 3/15\n",
            "352/352 [==============================] - 2s 5ms/step - loss: 0.7250 - accuracy: 0.7450\n",
            "Epoch 4/15\n",
            "352/352 [==============================] - 2s 5ms/step - loss: 0.7092 - accuracy: 0.7499\n",
            "Epoch 5/15\n",
            "352/352 [==============================] - 2s 5ms/step - loss: 0.6947 - accuracy: 0.7537\n",
            "Epoch 6/15\n",
            "352/352 [==============================] - 2s 7ms/step - loss: 0.6764 - accuracy: 0.7608\n",
            "Epoch 7/15\n",
            "352/352 [==============================] - 2s 6ms/step - loss: 0.6644 - accuracy: 0.7656\n",
            "Epoch 8/15\n",
            "352/352 [==============================] - 2s 5ms/step - loss: 0.6590 - accuracy: 0.7663\n",
            "Epoch 9/15\n",
            "352/352 [==============================] - 2s 5ms/step - loss: 0.6423 - accuracy: 0.7714\n",
            "Epoch 10/15\n",
            "352/352 [==============================] - 2s 5ms/step - loss: 0.6295 - accuracy: 0.7758\n",
            "Epoch 11/15\n",
            "352/352 [==============================] - 2s 5ms/step - loss: 0.6190 - accuracy: 0.7791\n",
            "Epoch 12/15\n",
            "352/352 [==============================] - 2s 6ms/step - loss: 0.6097 - accuracy: 0.7816\n",
            "Epoch 13/15\n",
            "352/352 [==============================] - 3s 7ms/step - loss: 0.5956 - accuracy: 0.7872\n",
            "Epoch 14/15\n",
            "352/352 [==============================] - 2s 5ms/step - loss: 0.5924 - accuracy: 0.7901\n",
            "Epoch 15/15\n",
            "352/352 [==============================] - 2s 5ms/step - loss: 0.5789 - accuracy: 0.7928\n",
            "157/157 [==============================] - 0s 3ms/step - loss: 0.8442 - accuracy: 0.7034\n",
            "Epoch 1/15\n",
            "352/352 [==============================] - 2s 5ms/step - loss: 0.6215 - accuracy: 0.7829\n",
            "Epoch 2/15\n",
            "352/352 [==============================] - 2s 5ms/step - loss: 0.5984 - accuracy: 0.7881\n",
            "Epoch 3/15\n",
            "352/352 [==============================] - 2s 6ms/step - loss: 0.5829 - accuracy: 0.7918\n",
            "Epoch 4/15\n",
            "352/352 [==============================] - 2s 7ms/step - loss: 0.5719 - accuracy: 0.7951\n",
            "Epoch 5/15\n",
            "352/352 [==============================] - 2s 5ms/step - loss: 0.5654 - accuracy: 0.7988\n",
            "Epoch 6/15\n",
            "352/352 [==============================] - 2s 6ms/step - loss: 0.5554 - accuracy: 0.8012\n",
            "Epoch 7/15\n",
            "352/352 [==============================] - 2s 5ms/step - loss: 0.5536 - accuracy: 0.8020\n",
            "Epoch 8/15\n",
            "352/352 [==============================] - 2s 5ms/step - loss: 0.5449 - accuracy: 0.8064\n",
            "Epoch 9/15\n",
            "352/352 [==============================] - 2s 6ms/step - loss: 0.5428 - accuracy: 0.8042\n",
            "Epoch 10/15\n",
            "352/352 [==============================] - 3s 7ms/step - loss: 0.5335 - accuracy: 0.8080\n",
            "Epoch 11/15\n",
            "352/352 [==============================] - 2s 5ms/step - loss: 0.5250 - accuracy: 0.8112\n",
            "Epoch 12/15\n",
            "352/352 [==============================] - 2s 5ms/step - loss: 0.5217 - accuracy: 0.8128\n",
            "Epoch 13/15\n",
            "352/352 [==============================] - 2s 5ms/step - loss: 0.5172 - accuracy: 0.8146\n",
            "Epoch 14/15\n",
            "352/352 [==============================] - 2s 5ms/step - loss: 0.5136 - accuracy: 0.8144\n",
            "Epoch 15/15\n",
            "352/352 [==============================] - 2s 5ms/step - loss: 0.5092 - accuracy: 0.8175\n",
            "157/157 [==============================] - 0s 3ms/step - loss: 0.7792 - accuracy: 0.7232\n",
            "Epoch 1/15\n",
            "352/352 [==============================] - 3s 7ms/step - loss: 0.5472 - accuracy: 0.8059\n",
            "Epoch 2/15\n",
            "352/352 [==============================] - 2s 5ms/step - loss: 0.5294 - accuracy: 0.8119\n",
            "Epoch 3/15\n",
            "352/352 [==============================] - 2s 5ms/step - loss: 0.5242 - accuracy: 0.8123\n",
            "Epoch 4/15\n",
            "352/352 [==============================] - 2s 5ms/step - loss: 0.5154 - accuracy: 0.8153\n",
            "Epoch 5/15\n",
            "352/352 [==============================] - 2s 5ms/step - loss: 0.5056 - accuracy: 0.8180\n",
            "Epoch 6/15\n",
            "352/352 [==============================] - 2s 5ms/step - loss: 0.4998 - accuracy: 0.8210\n",
            "Epoch 7/15\n",
            "352/352 [==============================] - 3s 7ms/step - loss: 0.5001 - accuracy: 0.8207\n",
            "Epoch 8/15\n",
            "352/352 [==============================] - 2s 6ms/step - loss: 0.4955 - accuracy: 0.8252\n",
            "Epoch 9/15\n",
            "352/352 [==============================] - 2s 5ms/step - loss: 0.4854 - accuracy: 0.8251\n",
            "Epoch 10/15\n",
            "352/352 [==============================] - 2s 5ms/step - loss: 0.4815 - accuracy: 0.8286\n",
            "Epoch 11/15\n",
            "352/352 [==============================] - 2s 5ms/step - loss: 0.4787 - accuracy: 0.8298\n",
            "Epoch 12/15\n",
            "352/352 [==============================] - 2s 5ms/step - loss: 0.4760 - accuracy: 0.8305\n",
            "Epoch 13/15\n",
            "352/352 [==============================] - 2s 6ms/step - loss: 0.4715 - accuracy: 0.8318\n",
            "Epoch 14/15\n",
            "352/352 [==============================] - 2s 7ms/step - loss: 0.4660 - accuracy: 0.8340\n",
            "Epoch 15/15\n",
            "352/352 [==============================] - 2s 5ms/step - loss: 0.4652 - accuracy: 0.8335\n",
            "157/157 [==============================] - 0s 3ms/step - loss: 0.6392 - accuracy: 0.7758\n",
            "Epoch 1/15\n",
            "352/352 [==============================] - 2s 6ms/step - loss: 0.4920 - accuracy: 0.8251\n",
            "Epoch 2/15\n",
            "352/352 [==============================] - 2s 5ms/step - loss: 0.4865 - accuracy: 0.8275\n",
            "Epoch 3/15\n",
            "352/352 [==============================] - 2s 5ms/step - loss: 0.4816 - accuracy: 0.8296\n",
            "Epoch 4/15\n",
            "352/352 [==============================] - 2s 6ms/step - loss: 0.4635 - accuracy: 0.8351\n",
            "Epoch 5/15\n",
            "352/352 [==============================] - 2s 7ms/step - loss: 0.4646 - accuracy: 0.8334\n",
            "Epoch 6/15\n",
            "352/352 [==============================] - 2s 5ms/step - loss: 0.4645 - accuracy: 0.8326\n",
            "Epoch 7/15\n",
            "352/352 [==============================] - 2s 5ms/step - loss: 0.4564 - accuracy: 0.8375\n",
            "Epoch 8/15\n",
            "352/352 [==============================] - 2s 5ms/step - loss: 0.4495 - accuracy: 0.8400\n",
            "Epoch 9/15\n",
            "352/352 [==============================] - 2s 5ms/step - loss: 0.4500 - accuracy: 0.8395\n",
            "Epoch 10/15\n",
            "352/352 [==============================] - 2s 5ms/step - loss: 0.4482 - accuracy: 0.8410\n",
            "Epoch 11/15\n",
            "352/352 [==============================] - 2s 7ms/step - loss: 0.4485 - accuracy: 0.8400\n",
            "Epoch 12/15\n",
            "352/352 [==============================] - 2s 6ms/step - loss: 0.4443 - accuracy: 0.8408\n",
            "Epoch 13/15\n",
            "352/352 [==============================] - 2s 5ms/step - loss: 0.4369 - accuracy: 0.8440\n",
            "Epoch 14/15\n",
            "352/352 [==============================] - 2s 5ms/step - loss: 0.4306 - accuracy: 0.8465\n",
            "Epoch 15/15\n",
            "352/352 [==============================] - 2s 5ms/step - loss: 0.4345 - accuracy: 0.8447\n",
            "157/157 [==============================] - 0s 3ms/step - loss: 0.5220 - accuracy: 0.8100\n",
            "Epoch 1/15\n",
            "352/352 [==============================] - 2s 5ms/step - loss: 0.4654 - accuracy: 0.8343\n",
            "Epoch 2/15\n",
            "352/352 [==============================] - 3s 7ms/step - loss: 0.4468 - accuracy: 0.8432\n",
            "Epoch 3/15\n",
            "352/352 [==============================] - 2s 5ms/step - loss: 0.4402 - accuracy: 0.8433\n",
            "Epoch 4/15\n",
            "352/352 [==============================] - 2s 5ms/step - loss: 0.4421 - accuracy: 0.8419\n",
            "Epoch 5/15\n",
            "352/352 [==============================] - 2s 5ms/step - loss: 0.4352 - accuracy: 0.8454\n",
            "Epoch 6/15\n",
            "352/352 [==============================] - 2s 5ms/step - loss: 0.4272 - accuracy: 0.8482\n",
            "Epoch 7/15\n",
            "352/352 [==============================] - 2s 5ms/step - loss: 0.4241 - accuracy: 0.8500\n",
            "Epoch 8/15\n",
            "352/352 [==============================] - 2s 6ms/step - loss: 0.4190 - accuracy: 0.8501\n",
            "Epoch 9/15\n",
            "352/352 [==============================] - 2s 7ms/step - loss: 0.4243 - accuracy: 0.8481\n",
            "Epoch 10/15\n",
            "352/352 [==============================] - 2s 5ms/step - loss: 0.4245 - accuracy: 0.8496\n",
            "Epoch 11/15\n",
            "352/352 [==============================] - 2s 5ms/step - loss: 0.4150 - accuracy: 0.8516\n",
            "Epoch 12/15\n",
            "352/352 [==============================] - 2s 5ms/step - loss: 0.4198 - accuracy: 0.8485\n",
            "Epoch 13/15\n",
            "352/352 [==============================] - 2s 5ms/step - loss: 0.4066 - accuracy: 0.8548\n",
            "Epoch 14/15\n",
            "352/352 [==============================] - 2s 5ms/step - loss: 0.4129 - accuracy: 0.8537\n",
            "Epoch 15/15\n",
            "352/352 [==============================] - 2s 7ms/step - loss: 0.4106 - accuracy: 0.8532\n",
            "157/157 [==============================] - 1s 4ms/step - loss: 0.4715 - accuracy: 0.8370\n",
            "Epoch 1/15\n",
            "352/352 [==============================] - 2s 5ms/step - loss: 0.4321 - accuracy: 0.8475\n",
            "Epoch 2/15\n",
            "352/352 [==============================] - 2s 5ms/step - loss: 0.4283 - accuracy: 0.8486\n",
            "Epoch 3/15\n",
            "352/352 [==============================] - 2s 5ms/step - loss: 0.4203 - accuracy: 0.8521\n",
            "Epoch 4/15\n",
            "352/352 [==============================] - 2s 5ms/step - loss: 0.4196 - accuracy: 0.8521\n",
            "Epoch 5/15\n",
            "352/352 [==============================] - 2s 5ms/step - loss: 0.4138 - accuracy: 0.8526\n",
            "Epoch 6/15\n",
            "352/352 [==============================] - 2s 6ms/step - loss: 0.3976 - accuracy: 0.8584\n",
            "Epoch 7/15\n",
            "352/352 [==============================] - 2s 6ms/step - loss: 0.4023 - accuracy: 0.8577\n",
            "Epoch 8/15\n",
            "352/352 [==============================] - 2s 5ms/step - loss: 0.4007 - accuracy: 0.8580\n",
            "Epoch 9/15\n",
            "352/352 [==============================] - 2s 5ms/step - loss: 0.4010 - accuracy: 0.8578\n",
            "Epoch 10/15\n",
            "352/352 [==============================] - 2s 5ms/step - loss: 0.4018 - accuracy: 0.8562\n",
            "Epoch 11/15\n",
            "352/352 [==============================] - 2s 5ms/step - loss: 0.3983 - accuracy: 0.8585\n",
            "Epoch 12/15\n",
            "352/352 [==============================] - 2s 6ms/step - loss: 0.3930 - accuracy: 0.8604\n",
            "Epoch 13/15\n",
            "352/352 [==============================] - 2s 7ms/step - loss: 0.3821 - accuracy: 0.8644\n",
            "Epoch 14/15\n",
            "352/352 [==============================] - 2s 5ms/step - loss: 0.3946 - accuracy: 0.8596\n",
            "Epoch 15/15\n",
            "352/352 [==============================] - 2s 5ms/step - loss: 0.3869 - accuracy: 0.8622\n",
            "157/157 [==============================] - 0s 3ms/step - loss: 0.3976 - accuracy: 0.8606\n",
            "Epoch 1/15\n",
            "352/352 [==============================] - 2s 5ms/step - loss: 0.4149 - accuracy: 0.8547\n",
            "Epoch 2/15\n",
            "352/352 [==============================] - 2s 5ms/step - loss: 0.4118 - accuracy: 0.8539\n",
            "Epoch 3/15\n",
            "352/352 [==============================] - 2s 6ms/step - loss: 0.4025 - accuracy: 0.8574\n",
            "Epoch 4/15\n",
            "352/352 [==============================] - 2s 6ms/step - loss: 0.3921 - accuracy: 0.8614\n",
            "Epoch 5/15\n",
            "352/352 [==============================] - 2s 5ms/step - loss: 0.3953 - accuracy: 0.8579\n",
            "Epoch 6/15\n",
            "352/352 [==============================] - 2s 5ms/step - loss: 0.3903 - accuracy: 0.8617\n",
            "Epoch 7/15\n",
            "352/352 [==============================] - 2s 5ms/step - loss: 0.3864 - accuracy: 0.8643\n",
            "Epoch 8/15\n",
            "352/352 [==============================] - 2s 5ms/step - loss: 0.3841 - accuracy: 0.8619\n",
            "Epoch 9/15\n",
            "352/352 [==============================] - 2s 6ms/step - loss: 0.3794 - accuracy: 0.8651\n",
            "Epoch 10/15\n",
            "352/352 [==============================] - 3s 7ms/step - loss: 0.3798 - accuracy: 0.8639\n",
            "Epoch 11/15\n",
            "352/352 [==============================] - 2s 5ms/step - loss: 0.3746 - accuracy: 0.8662\n",
            "Epoch 12/15\n",
            "352/352 [==============================] - 2s 5ms/step - loss: 0.3798 - accuracy: 0.8643\n",
            "Epoch 13/15\n",
            "352/352 [==============================] - 2s 5ms/step - loss: 0.3783 - accuracy: 0.8670\n",
            "Epoch 14/15\n",
            "352/352 [==============================] - 2s 5ms/step - loss: 0.3771 - accuracy: 0.8672\n",
            "Epoch 15/15\n",
            "352/352 [==============================] - 2s 5ms/step - loss: 0.3749 - accuracy: 0.8659\n",
            "157/157 [==============================] - 0s 3ms/step - loss: 0.5675 - accuracy: 0.7984\n",
            "Epoch 1/15\n",
            "352/352 [==============================] - 2s 7ms/step - loss: 0.3983 - accuracy: 0.8580\n",
            "Epoch 2/15\n",
            "352/352 [==============================] - 2s 5ms/step - loss: 0.3988 - accuracy: 0.8589\n",
            "Epoch 3/15\n",
            "352/352 [==============================] - 2s 5ms/step - loss: 0.3798 - accuracy: 0.8653\n",
            "Epoch 4/15\n",
            "352/352 [==============================] - 2s 5ms/step - loss: 0.3768 - accuracy: 0.8675\n",
            "Epoch 5/15\n",
            "352/352 [==============================] - 2s 5ms/step - loss: 0.3774 - accuracy: 0.8657\n",
            "Epoch 6/15\n",
            "352/352 [==============================] - 2s 6ms/step - loss: 0.3762 - accuracy: 0.8674\n",
            "Epoch 7/15\n",
            "352/352 [==============================] - 2s 7ms/step - loss: 0.3718 - accuracy: 0.8679\n",
            "Epoch 8/15\n",
            "352/352 [==============================] - 2s 5ms/step - loss: 0.3700 - accuracy: 0.8680\n",
            "Epoch 9/15\n",
            "352/352 [==============================] - 2s 5ms/step - loss: 0.3661 - accuracy: 0.8702\n",
            "Epoch 10/15\n",
            "352/352 [==============================] - 2s 5ms/step - loss: 0.3712 - accuracy: 0.8686\n",
            "Epoch 11/15\n",
            "352/352 [==============================] - 2s 5ms/step - loss: 0.3659 - accuracy: 0.8696\n",
            "Epoch 12/15\n",
            "352/352 [==============================] - 2s 5ms/step - loss: 0.3653 - accuracy: 0.8697\n",
            "Epoch 13/15\n",
            "352/352 [==============================] - 2s 6ms/step - loss: 0.3651 - accuracy: 0.8712\n",
            "Epoch 14/15\n",
            "352/352 [==============================] - 2s 6ms/step - loss: 0.3605 - accuracy: 0.8735\n",
            "Epoch 15/15\n",
            "352/352 [==============================] - 2s 5ms/step - loss: 0.3603 - accuracy: 0.8725\n",
            "157/157 [==============================] - 0s 3ms/step - loss: 0.3731 - accuracy: 0.8642\n",
            "Epoch 1/15\n",
            "352/352 [==============================] - 2s 5ms/step - loss: 0.3818 - accuracy: 0.8651\n",
            "Epoch 2/15\n",
            "352/352 [==============================] - 2s 5ms/step - loss: 0.3754 - accuracy: 0.8683\n",
            "Epoch 3/15\n",
            "352/352 [==============================] - 2s 5ms/step - loss: 0.3767 - accuracy: 0.8667\n",
            "Epoch 4/15\n",
            "352/352 [==============================] - 2s 7ms/step - loss: 0.3768 - accuracy: 0.8692\n",
            "Epoch 5/15\n",
            "352/352 [==============================] - 2s 6ms/step - loss: 0.3569 - accuracy: 0.8750\n",
            "Epoch 6/15\n",
            "352/352 [==============================] - 2s 5ms/step - loss: 0.3545 - accuracy: 0.8737\n",
            "Epoch 7/15\n",
            "352/352 [==============================] - 2s 5ms/step - loss: 0.3697 - accuracy: 0.8704\n",
            "Epoch 8/15\n",
            "352/352 [==============================] - 2s 5ms/step - loss: 0.3619 - accuracy: 0.8713\n",
            "Epoch 9/15\n",
            "352/352 [==============================] - 2s 5ms/step - loss: 0.3564 - accuracy: 0.8732\n",
            "Epoch 10/15\n",
            "352/352 [==============================] - 2s 6ms/step - loss: 0.3578 - accuracy: 0.8727\n",
            "Epoch 11/15\n",
            "352/352 [==============================] - 2s 7ms/step - loss: 0.3583 - accuracy: 0.8750\n",
            "Epoch 12/15\n",
            "352/352 [==============================] - 2s 5ms/step - loss: 0.3541 - accuracy: 0.8752\n",
            "Epoch 13/15\n",
            "352/352 [==============================] - 2s 5ms/step - loss: 0.3504 - accuracy: 0.8762\n",
            "Epoch 14/15\n",
            "352/352 [==============================] - 2s 5ms/step - loss: 0.3573 - accuracy: 0.8732\n",
            "Epoch 15/15\n",
            "352/352 [==============================] - 2s 5ms/step - loss: 0.3478 - accuracy: 0.8783\n",
            "157/157 [==============================] - 0s 3ms/step - loss: 0.6336 - accuracy: 0.7876\n"
          ]
        }
      ],
      "source": [
        "#Validação cruzada\n",
        "kfold = StratifiedKFold(n_splits = 10, shuffle = True, random_state = seed)\n",
        "\n",
        "resultados = []\n",
        "\n",
        "classificador = criarRede()\n",
        "for index_treinamento, index_teste in kfold.split(previsores_treinamento,\n",
        "                                                       np.zeros(shape = (classe_treinamento.shape[0], 1))):\n",
        "  classificador.fit(previsores_treinamento[index_treinamento], classe_treinamento[index_treinamento],\n",
        "                    batch_size= 128, epochs = 15)\n",
        "  precisao = classificador.evaluate(previsores_treinamento[index_teste], classe_treinamento[index_teste])\n",
        "  resultados.append(precisao[1])"
      ]
    },
    {
      "cell_type": "code",
      "execution_count": null,
      "metadata": {
        "colab": {
          "base_uri": "https://localhost:8080/"
        },
        "id": "z7Itz18JOQ4U",
        "outputId": "4ae5a72e-3379-4ace-e6bb-211bea6be2fe"
      },
      "outputs": [
        {
          "name": "stdout",
          "output_type": "stream",
          "text": [
            "0.780239999294281\n"
          ]
        }
      ],
      "source": [
        "resultados =  np.array(resultados)\n",
        "mediaCross  = resultados.mean()\n",
        "print(mediaCross)"
      ]
    },
    {
      "cell_type": "code",
      "execution_count": null,
      "metadata": {
        "colab": {
          "base_uri": "https://localhost:8080/",
          "height": 475
        },
        "id": "aHzHfTfJaDnv",
        "outputId": "b6e12aae-7d4f-44ed-96ce-a24fcc0bb8e3"
      },
      "outputs": [
        {
          "name": "stdout",
          "output_type": "stream",
          "text": [
            "1/1 [==============================] - 0s 28ms/step\n",
            "Previsão: 6 Label Prevista: FROG\n",
            "Classe real: 6 Label Real: FROG\n",
            "Resultado: ACERTOU\n"
          ]
        },
        {
          "data": {
            "image/png": "[encoded data removed]",
            "text/plain": [
              "<Figure size 640x480 with 2 Axes>"
            ]
          },
          "metadata": {},
          "output_type": "display_data"
        }
      ],
      "source": [
        "index =  5\n",
        "imagem_teste = np.expand_dims(previsores_teste[index], axis =0)\n",
        "previsao = classificador.predict(imagem_teste)\n",
        "previsao = np.argmax(previsao, axis=-1)[0]\n",
        "classe_real = preds_classes = np.argmax(classe_teste[index], axis=-1)\n",
        "fig, axs = plt.subplots(1,2)\n",
        "fig.suptitle('Imagem colorida e imagem em escala de cinza')\n",
        "axs[0].imshow(X_teste[index])\n",
        "axs[1].imshow(previsores_teste[index])\n",
        "resultado = 'ACERTOU' if previsao==classe_real else 'ERROU'\n",
        "print(f'Previsão: {previsao} Label Prevista: {labels[previsao]}\\nClasse real: {classe_real} Label Real: {labels[classe_real]}\\nResultado: {resultado}')"
      ]
    },
    {
      "cell_type": "markdown",
      "metadata": {
        "id": "jx8q7lXAabKG"
      },
      "source": [
        "### Treinamento e teste com Augumentation"
      ]
    },
    {
      "cell_type": "code",
      "execution_count": null,
      "metadata": {
        "colab": {
          "base_uri": "https://localhost:8080/"
        },
        "id": "nccr8-pwagoO",
        "outputId": "499abf7e-d4d7-423e-f8a6-34b5da901ee1"
      },
      "outputs": [
        {
          "name": "stdout",
          "output_type": "stream",
          "text": [
            "Epoch 1/20\n",
            "390/390 [==============================] - 20s 46ms/step - loss: 1.8033 - accuracy: 0.3537 - val_loss: 2.2590 - val_accuracy: 0.2594\n",
            "Epoch 2/20\n",
            "390/390 [==============================] - 18s 46ms/step - loss: 1.5428 - accuracy: 0.4532 - val_loss: 1.8377 - val_accuracy: 0.3968\n",
            "Epoch 3/20\n",
            "390/390 [==============================] - 17s 43ms/step - loss: 1.4151 - accuracy: 0.5024 - val_loss: 1.7000 - val_accuracy: 0.4285\n",
            "Epoch 4/20\n",
            "390/390 [==============================] - 17s 44ms/step - loss: 1.3217 - accuracy: 0.5364 - val_loss: 1.2809 - val_accuracy: 0.5616\n",
            "Epoch 5/20\n",
            "390/390 [==============================] - 20s 51ms/step - loss: 1.2585 - accuracy: 0.5623 - val_loss: 1.3218 - val_accuracy: 0.5426\n",
            "Epoch 6/20\n",
            "390/390 [==============================] - 19s 48ms/step - loss: 1.2075 - accuracy: 0.5771 - val_loss: 1.3599 - val_accuracy: 0.5599\n",
            "Epoch 7/20\n",
            "390/390 [==============================] - 18s 46ms/step - loss: 1.1686 - accuracy: 0.5903 - val_loss: 1.2360 - val_accuracy: 0.5661\n",
            "Epoch 8/20\n",
            "390/390 [==============================] - 18s 46ms/step - loss: 1.1383 - accuracy: 0.6043 - val_loss: 1.1178 - val_accuracy: 0.6137\n",
            "Epoch 9/20\n",
            "390/390 [==============================] - 18s 45ms/step - loss: 1.1117 - accuracy: 0.6122 - val_loss: 1.1351 - val_accuracy: 0.6140\n",
            "Epoch 10/20\n",
            "390/390 [==============================] - 17s 44ms/step - loss: 1.0992 - accuracy: 0.6189 - val_loss: 1.0257 - val_accuracy: 0.6436\n",
            "Epoch 11/20\n",
            "390/390 [==============================] - 17s 44ms/step - loss: 1.0729 - accuracy: 0.6263 - val_loss: 1.0685 - val_accuracy: 0.6288\n",
            "Epoch 12/20\n",
            "390/390 [==============================] - 17s 44ms/step - loss: 1.0485 - accuracy: 0.6348 - val_loss: 1.1601 - val_accuracy: 0.6077\n",
            "Epoch 13/20\n",
            "390/390 [==============================] - 17s 45ms/step - loss: 1.0376 - accuracy: 0.6384 - val_loss: 1.2018 - val_accuracy: 0.5998\n",
            "Epoch 14/20\n",
            "390/390 [==============================] - 17s 44ms/step - loss: 1.0289 - accuracy: 0.6425 - val_loss: 1.6875 - val_accuracy: 0.5035\n",
            "Epoch 15/20\n",
            "390/390 [==============================] - 19s 49ms/step - loss: 1.0182 - accuracy: 0.6457 - val_loss: 0.9964 - val_accuracy: 0.6580\n",
            "Epoch 16/20\n",
            "390/390 [==============================] - 21s 53ms/step - loss: 1.0008 - accuracy: 0.6508 - val_loss: 1.2144 - val_accuracy: 0.6044\n",
            "Epoch 17/20\n",
            "390/390 [==============================] - 17s 44ms/step - loss: 0.9978 - accuracy: 0.6539 - val_loss: 1.3055 - val_accuracy: 0.5855\n",
            "Epoch 18/20\n",
            "390/390 [==============================] - 17s 43ms/step - loss: 0.9849 - accuracy: 0.6587 - val_loss: 1.2592 - val_accuracy: 0.5809\n",
            "Epoch 19/20\n",
            "390/390 [==============================] - 18s 46ms/step - loss: 0.9847 - accuracy: 0.6585 - val_loss: 1.0846 - val_accuracy: 0.6306\n",
            "Epoch 20/20\n",
            "390/390 [==============================] - 17s 43ms/step - loss: 0.9716 - accuracy: 0.6617 - val_loss: 1.6364 - val_accuracy: 0.5088\n",
            "313/313 [==============================] - 1s 4ms/step - loss: 1.6363 - accuracy: 0.5088\n",
            "Precisão usando dados originais em escala de cinza: [1.6363494396209717, 0.5088000297546387]\n"
          ]
        }
      ],
      "source": [
        "classificador = criarRede()\n",
        "classificador.fit(base_treinamento,\n",
        "                  steps_per_epoch= base_treinamento.x.shape[0]/base_treinamento.batch_size,\n",
        "                  epochs = 20,\n",
        "                  validation_data=base_teste,\n",
        "                  validation_steps=base_teste.x.shape[0]/base_teste.batch_size)\n",
        "precisao = classificador.evaluate(base_teste.x, base_teste.y)\n",
        "print(f'Precisão usando dados originais em escala de cinza: {precisao}')"
      ]
    },
    {
      "cell_type": "code",
      "execution_count": null,
      "metadata": {
        "colab": {
          "base_uri": "https://localhost:8080/",
          "height": 475
        },
        "id": "tmqhQg2ValLu",
        "outputId": "a0a901e4-a789-47d5-d739-e89116f12112"
      },
      "outputs": [
        {
          "name": "stdout",
          "output_type": "stream",
          "text": [
            "1/1 [==============================] - 0s 18ms/step\n",
            "Previsão: 9 Label Prevista: TRUCK\n",
            "Classe real: 9 Label Real: TRUCK\n",
            "Resultado: ACERTOU\n"
          ]
        },
        {
          "data": {
            "image/png": "[encoded data removed]",
            "text/plain": [
              "<Figure size 640x480 with 2 Axes>"
            ]
          },
          "metadata": {},
          "output_type": "display_data"
        }
      ],
      "source": [
        "index =  45\n",
        "imagem_teste = np.expand_dims(previsores_teste[index], axis =0)\n",
        "previsao = classificador.predict(imagem_teste)\n",
        "previsao = np.argmax(previsao, axis=-1)[0]\n",
        "classe_real = preds_classes = np.argmax(classe_teste[index], axis=-1)\n",
        "fig, axs = plt.subplots(1,2)\n",
        "fig.suptitle('Imagem colorida e imagem em escala de cinza')\n",
        "axs[0].imshow(X_teste[index])\n",
        "axs[1].imshow(previsores_teste[index])\n",
        "resultado = 'ACERTOU' if previsao==classe_real else 'ERROU'\n",
        "print(f'Previsão: {previsao} Label Prevista: {labels[previsao]}\\nClasse real: {classe_real} Label Real: {labels[classe_real]}\\nResultado: {resultado}')"
      ]
    }
  ],
  "metadata": {
    "accelerator": "GPU",
    "colab": {
      "gpuType": "T4",
      "provenance": []
    },
    "kernelspec": {
      "display_name": "Python 3",
      "name": "python3"
    },
    "language_info": {
      "name": "python"
    }
  },
  "nbformat": 4,
  "nbformat_minor": 0
}
